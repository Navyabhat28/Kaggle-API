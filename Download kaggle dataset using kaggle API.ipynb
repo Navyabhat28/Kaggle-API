{
 "cells": [
  {
   "cell_type": "markdown",
   "id": "2ad753c8",
   "metadata": {},
   "source": [
    "# Download dataset from Kaggle using KaggleApi"
   ]
  },
  {
   "cell_type": "markdown",
   "id": "eef231df",
   "metadata": {},
   "source": [
    "## 1. Install Kaggle\n",
    "## 2. Login to kaggle\n",
    "## 3. Navigate to your account and scroll down to download kaggle API and click on Create New API Token\n",
    "## 4. Save kaggle.json to the desired path"
   ]
  },
  {
   "cell_type": "code",
   "execution_count": 1,
   "id": "f4687352",
   "metadata": {
    "ExecuteTime": {
     "end_time": "2022-07-08T12:23:49.619148Z",
     "start_time": "2022-07-08T12:23:04.788021Z"
    }
   },
   "outputs": [
    {
     "name": "stdout",
     "output_type": "stream",
     "text": [
      "Collecting kaggle\n",
      "  Downloading kaggle-1.5.12.tar.gz (58 kB)\n",
      "Requirement already satisfied: six>=1.10 in c:\\users\\lenovo\\anaconda3\\anakondanew\\lib\\site-packages (from kaggle) (1.16.0)\n",
      "Requirement already satisfied: certifi in c:\\users\\lenovo\\anaconda3\\anakondanew\\lib\\site-packages (from kaggle) (2021.10.8)\n",
      "Requirement already satisfied: python-dateutil in c:\\users\\lenovo\\anaconda3\\anakondanew\\lib\\site-packages (from kaggle) (2.8.2)\n",
      "Requirement already satisfied: requests in c:\\users\\lenovo\\anaconda3\\anakondanew\\lib\\site-packages (from kaggle) (2.26.0)\n",
      "Requirement already satisfied: tqdm in c:\\users\\lenovo\\anaconda3\\anakondanew\\lib\\site-packages (from kaggle) (4.62.3)\n",
      "Requirement already satisfied: python-slugify in c:\\users\\lenovo\\anaconda3\\anakondanew\\lib\\site-packages (from kaggle) (5.0.2)\n",
      "Requirement already satisfied: urllib3 in c:\\users\\lenovo\\anaconda3\\anakondanew\\lib\\site-packages (from kaggle) (1.26.7)\n",
      "Requirement already satisfied: text-unidecode>=1.3 in c:\\users\\lenovo\\anaconda3\\anakondanew\\lib\\site-packages (from python-slugify->kaggle) (1.3)\n",
      "Requirement already satisfied: charset-normalizer~=2.0.0 in c:\\users\\lenovo\\anaconda3\\anakondanew\\lib\\site-packages (from requests->kaggle) (2.0.4)\n",
      "Requirement already satisfied: idna<4,>=2.5 in c:\\users\\lenovo\\anaconda3\\anakondanew\\lib\\site-packages (from requests->kaggle) (3.2)\n",
      "Requirement already satisfied: colorama in c:\\users\\lenovo\\anaconda3\\anakondanew\\lib\\site-packages (from tqdm->kaggle) (0.4.4)\n",
      "Building wheels for collected packages: kaggle\n",
      "  Building wheel for kaggle (setup.py): started\n",
      "  Building wheel for kaggle (setup.py): finished with status 'done'\n",
      "  Created wheel for kaggle: filename=kaggle-1.5.12-py3-none-any.whl size=73051 sha256=e2e48bef2c26efbac64681a12972b1728be6c261f7bc9e6ae6804e37d09149a0\n",
      "  Stored in directory: c:\\users\\lenovo\\appdata\\local\\pip\\cache\\wheels\\ac\\b2\\c3\\fa4706d469b5879105991d1c8be9a3c2ef329ba9fe2ce5085e\n",
      "Successfully built kaggle\n",
      "Installing collected packages: kaggle\n",
      "Successfully installed kaggle-1.5.12\n",
      "Note: you may need to restart the kernel to use updated packages.\n"
     ]
    }
   ],
   "source": [
    "#Install kaggle\n",
    "pip install kaggle"
   ]
  },
  {
   "cell_type": "code",
   "execution_count": 3,
   "id": "645b2d7b",
   "metadata": {
    "ExecuteTime": {
     "end_time": "2022-07-08T12:29:30.064308Z",
     "start_time": "2022-07-08T12:29:30.030329Z"
    }
   },
   "outputs": [],
   "source": [
    "import kaggle"
   ]
  },
  {
   "cell_type": "code",
   "execution_count": 4,
   "id": "9022ed22",
   "metadata": {
    "ExecuteTime": {
     "end_time": "2022-07-08T12:30:18.378725Z",
     "start_time": "2022-07-08T12:30:18.367731Z"
    }
   },
   "outputs": [],
   "source": [
    "#Initialize Api\n",
    "from kaggle.api.kaggle_api_extended import KaggleApi"
   ]
  },
  {
   "cell_type": "code",
   "execution_count": 13,
   "id": "eb3cf9ca",
   "metadata": {
    "ExecuteTime": {
     "end_time": "2022-07-08T12:43:10.796659Z",
     "start_time": "2022-07-08T12:43:10.774670Z"
    }
   },
   "outputs": [],
   "source": [
    "api = KaggleApi()"
   ]
  },
  {
   "cell_type": "code",
   "execution_count": 14,
   "id": "55b7fcd7",
   "metadata": {
    "ExecuteTime": {
     "end_time": "2022-07-08T12:43:20.597194Z",
     "start_time": "2022-07-08T12:43:20.582204Z"
    }
   },
   "outputs": [],
   "source": [
    "api.authenticate()"
   ]
  },
  {
   "cell_type": "markdown",
   "id": "bd2a736e",
   "metadata": {},
   "source": [
    "# To download Competion file from kaggle"
   ]
  },
  {
   "cell_type": "code",
   "execution_count": 15,
   "id": "a6a35696",
   "metadata": {
    "ExecuteTime": {
     "end_time": "2022-07-08T12:48:36.089751Z",
     "start_time": "2022-07-08T12:48:26.109919Z"
    }
   },
   "outputs": [
    {
     "name": "stdout",
     "output_type": "stream",
     "text": [
      "Downloading application_train.csv.zip to C:\\Users\\Lenovo\n"
     ]
    },
    {
     "name": "stderr",
     "output_type": "stream",
     "text": [
      "100%|█████████████████████████████████████████████████████████████████████████████| 36.1M/36.1M [00:07<00:00, 5.23MB/s]"
     ]
    },
    {
     "name": "stdout",
     "output_type": "stream",
     "text": [
      "\n"
     ]
    },
    {
     "name": "stderr",
     "output_type": "stream",
     "text": [
      "\n"
     ]
    }
   ],
   "source": [
    "api.competition_download_file('home-credit-default-risk',\n",
    "                             'application_train.csv')"
   ]
  },
  {
   "cell_type": "markdown",
   "id": "2265524b",
   "metadata": {},
   "source": [
    "# For standalone dataset"
   ]
  },
  {
   "cell_type": "code",
   "execution_count": 17,
   "id": "1a86ac59",
   "metadata": {
    "ExecuteTime": {
     "end_time": "2022-07-08T13:06:42.987857Z",
     "start_time": "2022-07-08T13:06:38.795384Z"
    }
   },
   "outputs": [
    {
     "data": {
      "text/plain": [
       "True"
      ]
     },
     "execution_count": 17,
     "metadata": {},
     "output_type": "execute_result"
    }
   ],
   "source": [
    "#For standalone dataset, we use user's name and the dataset name i.e., user/dataset, and execute dataset_download_file\n",
    "\n",
    "api.dataset_download_file('sudalairajkumar/novel-corona-virus-2019-dataset',\n",
    "                         file_name='covid_19_data.csv',\n",
    "                         path = './')"
   ]
  },
  {
   "cell_type": "code",
   "execution_count": null,
   "id": "f7212b07",
   "metadata": {},
   "outputs": [],
   "source": []
  }
 ],
 "metadata": {
  "kernelspec": {
   "display_name": "Python 3 (ipykernel)",
   "language": "python",
   "name": "python3"
  },
  "language_info": {
   "codemirror_mode": {
    "name": "ipython",
    "version": 3
   },
   "file_extension": ".py",
   "mimetype": "text/x-python",
   "name": "python",
   "nbconvert_exporter": "python",
   "pygments_lexer": "ipython3",
   "version": "3.9.7"
  },
  "varInspector": {
   "cols": {
    "lenName": 16,
    "lenType": 16,
    "lenVar": 40
   },
   "kernels_config": {
    "python": {
     "delete_cmd_postfix": "",
     "delete_cmd_prefix": "del ",
     "library": "var_list.py",
     "varRefreshCmd": "print(var_dic_list())"
    },
    "r": {
     "delete_cmd_postfix": ") ",
     "delete_cmd_prefix": "rm(",
     "library": "var_list.r",
     "varRefreshCmd": "cat(var_dic_list()) "
    }
   },
   "types_to_exclude": [
    "module",
    "function",
    "builtin_function_or_method",
    "instance",
    "_Feature"
   ],
   "window_display": false
  }
 },
 "nbformat": 4,
 "nbformat_minor": 5
}
